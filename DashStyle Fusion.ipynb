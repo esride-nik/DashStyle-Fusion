{
 "cells": [
  {
   "cell_type": "markdown",
   "id": "7036f3a0",
   "metadata": {},
   "source": [
    "# DashStyle Fusion\n",
    "#### Apply the style of one ArcGIS Dashboard to other ArcGIS Dashboards\n",
    "created by Niklas Köhn, Esri Deutschland, 2024"
   ]
  },
  {
   "cell_type": "code",
   "execution_count": 2,
   "id": "5b23a71a",
   "metadata": {},
   "outputs": [
    {
     "name": "stdout",
     "output_type": "stream",
     "text": [
      "Username: esride-nik\n",
      "Password: ········\n",
      "Successfully logged in as: esride-nik\n"
     ]
    }
   ],
   "source": [
    "from arcgis.gis import GIS\n",
    "import getpass\n",
    "\n",
    "# user input username + password\n",
    "username = input(\"Username: \")\n",
    "password = getpass.getpass(prompt='Password: ', stream=None) # hide password\n",
    "\n",
    "# login to ArcGIS Online or ArcGIS Enterprise\n",
    "gis = GIS(\"https://www.arcgis.com\", username, password)\n",
    "print(\"Successfully logged in as: \" + gis.properties.user.username)"
   ]
  },
  {
   "cell_type": "code",
   "execution_count": null,
   "id": "cd25b69f",
   "metadata": {},
   "outputs": [
    {
     "name": "stdout",
     "output_type": "stream",
     "text": [
      "1. Search in the organization\n",
      "2. Search in my account\n",
      "3. Exit\n"
     ]
    }
   ],
   "source": [
    "# user select to search org or own account\n",
    "print(\"1. Search in the organization\")\n",
    "print(\"2. Search in my account\")\n",
    "print(\"3. Exit\")\n",
    "choice = input(\"Enter your choice: \")\n",
    "\n",
    "# search for dashboards in the org or own account\n",
    "if choice == \"1\":\n",
    "    search = input(\"Enter search term: \")\n",
    "    items = gis.content.search(query=search, item_type=\"Dashboard\", max_items=100)\n",
    "    print(\"Found \" + str(len(items)) + \" dashboards\")\n",
    "    for item in items:\n",
    "        print(item.title + \" (\" + item.id + \")\")\n",
    "elif choice == \"2\":\n",
    "    search = input(\"Enter search term: \")\n",
    "    items = gis.content.search(query=search, item_type=\"Dashboard\", max_items=100, outside_org=True)\n",
    "    print(\"Found \" + str(len(items)) + \" dashboards\")\n",
    "    for item in items:\n",
    "        print(item.title + \" (\" + item.id + \")\")\n",
    "else:\n",
    "    exit()"
   ]
  },
  {
   "cell_type": "code",
   "execution_count": null,
   "id": "c312a970",
   "metadata": {},
   "outputs": [],
   "source": []
  }
 ],
 "metadata": {
  "kernelspec": {
   "display_name": "Python 3 (ipykernel)",
   "language": "python",
   "name": "python3"
  },
  "language_info": {
   "codemirror_mode": {
    "name": "ipython",
    "version": 3
   },
   "file_extension": ".py",
   "mimetype": "text/x-python",
   "name": "python",
   "nbconvert_exporter": "python",
   "pygments_lexer": "ipython3",
   "version": "3.9.13"
  }
 },
 "nbformat": 4,
 "nbformat_minor": 5
}
