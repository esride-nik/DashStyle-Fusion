{
 "cells": [
  {
   "cell_type": "markdown",
   "id": "7036f3a0",
   "metadata": {},
   "source": [
    "# DashStyle Fusion\n",
    "#### Apply the style of one ArcGIS Dashboard to other ArcGIS Dashboards\n",
    "created by Niklas Köhn, Esri Deutschland, 2024"
   ]
  },
  {
   "cell_type": "code",
   "execution_count": 27,
   "id": "5b23a71a",
   "metadata": {},
   "outputs": [
    {
     "name": "stdout",
     "output_type": "stream",
     "text": [
      "Username: esride-nik\n",
      "Password: ········\n",
      "Successfully logged in as: esride-nik\n"
     ]
    }
   ],
   "source": [
    "from arcgis.gis import GIS\n",
    "import getpass\n",
    "\n",
    "# user input username + password\n",
    "username = input(\"Username: \")\n",
    "password = getpass.getpass(prompt='Password: ', stream=None) # hide password\n",
    "\n",
    "# login to ArcGIS Online or ArcGIS Enterprise\n",
    "gis = GIS(\"https://www.arcgis.com\", username, password)\n",
    "print(\"Successfully logged in as: \" + gis.properties.user.username)"
   ]
  },
  {
   "cell_type": "markdown",
   "id": "f929cd96",
   "metadata": {},
   "source": [
    "### Search for dashboards"
   ]
  },
  {
   "cell_type": "code",
   "execution_count": null,
   "id": "cd25b69f",
   "metadata": {},
   "outputs": [
    {
     "name": "stdout",
     "output_type": "stream",
     "text": [
      "1. Search in the organization\n",
      "2. Search in my account\n"
     ]
    }
   ],
   "source": [
    "# user select to search org or own account\n",
    "print(\"1. Search in the organization\")\n",
    "print(\"2. Search in my account\")\n",
    "choice = input(\"Enter your choice: \")\n",
    "\n",
    "# search for dashboards in the org or own account\n",
    "outside_org_choice = True\n",
    "if choice == \"1\":\n",
    "    outside_org_choice = False\n",
    "\n",
    "search = input(\"Enter search term (empty string to search for all dashboards): \")\n",
    "items = gis.content.search(query=search, item_type=\"Dashboard\", max_items=100, outside_org=outside_org_choice)\n",
    "print(\"Found \" + str(len(items)) + \" dashboards\")\n",
    "\n",
    "for item in items:\n",
    "    print(item.title + \" (\" + item.id + \")\")"
   ]
  },
  {
   "cell_type": "markdown",
   "id": "e86791bb",
   "metadata": {},
   "source": [
    "### Copy all dashboards to folder in own account"
   ]
  },
  {
   "cell_type": "code",
   "execution_count": null,
   "id": "c312a970",
   "metadata": {},
   "outputs": [],
   "source": [
    "import datetime\n",
    "\n",
    "# create folder in own account named \"dashboards_<date>_time\"\n",
    "folder_name = \"dashboards_\" + datetime.datetime.now().strftime(\"%Y%m%d_%H%M%S\")\n",
    "folder = gis.content.create_folder(folder_name)\n",
    "\n",
    "# copy all dashboards to the folder\n",
    "copied_items = []\n",
    "for item in items:\n",
    "    # use arcgis python api to copy dashboard item. folder parameter does not work, everything ends up in root :(\n",
    "    copied_item = item.copy_item(folder=folder_name)\n",
    "    copied_items.append(copied_item)\n",
    "    print (\"Dashboard \" + copied_item.title + \" (\" + copied_item.id + \")\" + \" copied.\")\n",
    "\n",
    "# workaround because folder parameter doesn't work: move items. if this fails, delete copies.\n",
    "moved_items = []\n",
    "deleted_items = []\n",
    "for item in copied_items:\n",
    "    objMoved = item.move(folder=folder_name)  #folder not found for given owner message if it doesnt move it.\n",
    "    moved_items.append(item)\n",
    "    if (objMoved is None) or \\\n",
    "            (objMoved is not None and 'success' in objMoved and not objMoved['success']):\n",
    "        deleted_items.append(item)\n",
    "        item.delete(force=False, dry_run=False)\n",
    "        sys.exit(\n",
    "            \"ERROR: Unable to move the item with ItemID {0} to the folder, {1}. \".format(\n",
    "                id, folder_name))\n",
    "    \n",
    "for item in moved_items:\n",
    "    print (\"Dashboard \" + copied_item.title + \" (\" + copied_item.id + \")\" + \" moved to folder \" + folder_name + \".\")\n",
    "print (str(len(moved_items)) + \" dashboards copied in total.\")"
   ]
  },
  {
   "cell_type": "markdown",
   "id": "b2f1caf1",
   "metadata": {},
   "source": [
    "### Select template"
   ]
  },
  {
   "cell_type": "code",
   "execution_count": null,
   "id": "5733a0cd",
   "metadata": {},
   "outputs": [],
   "source": [
    "# user input dashboard id to use as template\n",
    "template_id = input(\"Enter dashboard id to use as template: \")\n",
    "\n",
    "# filter moved items to find template dashboard\n",
    "template_item = None\n",
    "for item in moved_items:\n",
    "    if item.id == template_id:\n",
    "        template_item = item\n",
    "        break\n",
    "print(\"template_item\", template_item)\n",
    "\n",
    "# get template dashboard JSON\n",
    "template_json = template_item.get_data()\n",
    "\n",
    "header = None\n",
    "# copy header section from template_json\n",
    "if template_json[\"version\"] > 57:\n",
    "    # TODO: check since when we have a \"desktopView\"\n",
    "    header = template_json[\"desktopView\"][\"header\"]\n",
    "else:\n",
    "    header = template_json[\"header\"]\n",
    "\n",
    "# copy theme property from template_json\n",
    "theme = template_json[\"theme\"]\n",
    "\n",
    "# copy themeOverrides from template_json\n",
    "themeOverrides = template_json[\"themeOverrides\"]\n",
    "\n",
    "print (header, \"\\n\\n ... \\n\\n\", theme, \"\\n\\n ... \\n\\n\", themeOverrides)"
   ]
  },
  {
   "cell_type": "markdown",
   "id": "7955c377",
   "metadata": {},
   "source": [
    "### Apply template header and theme"
   ]
  },
  {
   "cell_type": "code",
   "execution_count": null,
   "id": "a8c5f48d",
   "metadata": {},
   "outputs": [],
   "source": [
    "for item in moved_items:\n",
    "    # get template dashboard JSON\n",
    "    edit_json = item.get_data()\n",
    "\n",
    "    # copy header section from template_json\n",
    "    if edit_json[\"version\"] > 57:\n",
    "        # TODO: check since when we have a \"desktopView\"\n",
    "        edit_json[\"desktopView\"][\"header\"] = header\n",
    "    else:\n",
    "        edit_json[\"header\"] = header\n",
    "\n",
    "    # copy theme property from template_json\n",
    "    edit_json[\"theme\"] = theme\n",
    "\n",
    "    # copy themeOverrides from template_json\n",
    "    edit_json[\"themeOverrides\"] = themeOverrides\n",
    " \n",
    "    # store item to ArcGIS Online or ArcGIS Enterprise\n",
    "    update_success = item.update(data=edit_json)\n",
    "    \n",
    "    if update_success:\n",
    "        print (\"Item \" + item.title + \" (\" + item.id + \") updated.\")\n",
    "    else:\n",
    "        sys.exit(\"ERROR: Item {0} ({1}) could not be updated. \".format(item.title, item.id))"
   ]
  }
 ],
 "metadata": {
  "kernelspec": {
   "display_name": "Python 3 (ipykernel)",
   "language": "python",
   "name": "python3"
  },
  "language_info": {
   "codemirror_mode": {
    "name": "ipython",
    "version": 3
   },
   "file_extension": ".py",
   "mimetype": "text/x-python",
   "name": "python",
   "nbconvert_exporter": "python",
   "pygments_lexer": "ipython3",
   "version": "3.9.13"
  }
 },
 "nbformat": 4,
 "nbformat_minor": 5
}
