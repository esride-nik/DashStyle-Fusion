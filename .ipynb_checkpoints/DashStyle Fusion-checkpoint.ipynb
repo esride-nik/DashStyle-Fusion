{
 "cells": [
  {
   "cell_type": "markdown",
   "id": "7036f3a0",
   "metadata": {},
   "source": [
    "# DashStyle Fusion\n",
    "#### Apply the style of one ArcGIS Dashboard to other ArcGIS Dashboards\n",
    "created by Niklas Köhn, Esri Deutschland, 2024"
   ]
  },
  {
   "cell_type": "code",
   "execution_count": 2,
   "id": "5b23a71a",
   "metadata": {},
   "outputs": [
    {
     "name": "stdout",
     "output_type": "stream",
     "text": [
      "Username: esride-nik\n",
      "Password: ········\n",
      "Successfully logged in as: esride-nik\n"
     ]
    }
   ],
   "source": [
    "from arcgis.gis import GIS\n",
    "import getpass\n",
    "\n",
    "# user input username + password\n",
    "username = input(\"Username: \")\n",
    "password = getpass.getpass(prompt='Password: ', stream=None) # hide password\n",
    "\n",
    "# login to ArcGIS Online or ArcGIS Enterprise\n",
    "gis = GIS(\"https://www.arcgis.com\", username, password)\n",
    "print(\"Successfully logged in as: \" + gis.properties.user.username)"
   ]
  },
  {
   "cell_type": "markdown",
   "id": "f929cd96",
   "metadata": {},
   "source": [
    "### Search for dashboards"
   ]
  },
  {
   "cell_type": "code",
   "execution_count": 12,
   "id": "cd25b69f",
   "metadata": {},
   "outputs": [
    {
     "name": "stdout",
     "output_type": "stream",
     "text": [
      "1. Search in the organization\n",
      "2. Search in my account\n",
      "Enter your choice: 1\n",
      "Enter search term (empty string to search for all dashboards): tiger\n",
      "Found 14 dashboards\n",
      "Tigermücke 2 (ce3d500b1adb4f1aa3c796eb195106bc)\n",
      "Tigermücke (kopieren) (713e00efd9704bafb2f9e216b065189c)\n",
      "Tigermücke (kopieren) (5fdc230487554165b57b17cf9fd78340)\n",
      "Tigermücke 2 (94912bfe15ac498fa377fa0fe3393a50)\n",
      "Tigermücke (387545bb1f164022bbccc8060585e147)\n",
      "Tigermücke (kopieren) (9cbc6330350748f1bd1eb63cf4172665)\n",
      "Tigermücke (kopieren) (90483fb423134b4fb6f8e36a4b136b8e)\n",
      "Tigermücke (kopieren) (e9d413ce9fda48238596712b4363f6fe)\n",
      "Tigermücke (kopieren) (948eb855129640af862edf390d033e5e)\n",
      "Tigermücke (kopieren) (2198e2f6fa714c7a805eaa6d51f091c6)\n",
      "Tigermücke (kopieren) (72081010ac83402ba71167fbb5f41ae4)\n",
      "Tigermücke (kopieren) (fbd66ae0536b4321a6265759c1065018)\n",
      "Tigermücke (e9174b71a1224188800eef665a429748)\n",
      "Tigermücke (kopieren) (37328e37c42642819c476a3b6742dc02)\n"
     ]
    }
   ],
   "source": [
    "# user select to search org or own account\n",
    "print(\"1. Search in the organization\")\n",
    "print(\"2. Search in my account\")\n",
    "choice = input(\"Enter your choice: \")\n",
    "\n",
    "# search for dashboards in the org or own account\n",
    "outside_org_choice = True\n",
    "if choice == \"1\":\n",
    "    outside_org_choice = False\n",
    "\n",
    "search = input(\"Enter search term (empty string to search for all dashboards): \")\n",
    "items = gis.content.search(query=search, item_type=\"Dashboard\", max_items=100, outside_org=outside_org_choice)\n",
    "print(\"Found \" + str(len(items)) + \" dashboards\")\n",
    "\n",
    "for item in items:\n",
    "    print(item.title + \" (\" + item.id + \")\")"
   ]
  },
  {
   "cell_type": "markdown",
   "id": "e86791bb",
   "metadata": {},
   "source": [
    "### Copy all dashboards to folder in own account"
   ]
  },
  {
   "cell_type": "code",
   "execution_count": 13,
   "id": "c312a970",
   "metadata": {},
   "outputs": [
    {
     "name": "stdout",
     "output_type": "stream",
     "text": [
      "Copied 14 dashboards to folder: dashboards_20240117_143953\n"
     ]
    },
    {
     "ename": "AttributeError",
     "evalue": "'dict' object has no attribute 'title'",
     "output_type": "error",
     "traceback": [
      "\u001b[0;31m---------------------------------------------------------------------------\u001b[0m",
      "\u001b[0;31mAttributeError\u001b[0m                            Traceback (most recent call last)",
      "Cell \u001b[0;32mIn [13], line 30\u001b[0m\n\u001b[1;32m     28\u001b[0m \u001b[38;5;28mprint\u001b[39m (\u001b[38;5;124m\"\u001b[39m\u001b[38;5;124mCopied \u001b[39m\u001b[38;5;124m\"\u001b[39m \u001b[38;5;241m+\u001b[39m \u001b[38;5;28mstr\u001b[39m(\u001b[38;5;28mlen\u001b[39m(moved_items)) \u001b[38;5;241m+\u001b[39m \u001b[38;5;124m\"\u001b[39m\u001b[38;5;124m dashboards to folder: \u001b[39m\u001b[38;5;124m\"\u001b[39m \u001b[38;5;241m+\u001b[39m folder_name)\n\u001b[1;32m     29\u001b[0m \u001b[38;5;28;01mfor\u001b[39;00m item \u001b[38;5;129;01min\u001b[39;00m moved_items:\n\u001b[0;32m---> 30\u001b[0m     \u001b[38;5;28mprint\u001b[39m(\u001b[43mitem\u001b[49m\u001b[38;5;241;43m.\u001b[39;49m\u001b[43mtitle\u001b[49m \u001b[38;5;241m+\u001b[39m \u001b[38;5;124m\"\u001b[39m\u001b[38;5;124m (\u001b[39m\u001b[38;5;124m\"\u001b[39m \u001b[38;5;241m+\u001b[39m item\u001b[38;5;241m.\u001b[39mid \u001b[38;5;241m+\u001b[39m \u001b[38;5;124m\"\u001b[39m\u001b[38;5;124m)\u001b[39m\u001b[38;5;124m\"\u001b[39m)\n",
      "\u001b[0;31mAttributeError\u001b[0m: 'dict' object has no attribute 'title'"
     ]
    }
   ],
   "source": [
    "import datetime\n",
    "\n",
    "# create folder in own account named \"dashboards_<date>_time\"\n",
    "folder_name = \"dashboards_\" + datetime.datetime.now().strftime(\"%Y%m%d_%H%M%S\")\n",
    "folder = gis.content.create_folder(folder_name)\n",
    "\n",
    "# copy all dashboards to the folder\n",
    "copied_items = []\n",
    "for item in items:\n",
    "    # use arcgis python api to copy dashboard item. folder parameter does not work, everything ends up in root :(\n",
    "    copied_item = item.copy_item(folder=folder_name)\n",
    "    copied_items.append(copied_item)\n",
    "    print (\"Dashboard \" + copied_item + \" copied.\")\n",
    "\n",
    "# workaround because folder parameter doesn't work: move items. if this fails, delete copies.\n",
    "moved_items = []\n",
    "deleted_items = []\n",
    "for item in copied_items:\n",
    "    objMoved = item.move(folder=folder_name)  #folder not found for given owner message if it doesnt move it.\n",
    "    moved_items.append(item)\n",
    "    if (objMoved is None) or \\\n",
    "            (objMoved is not None and 'success' in objMoved and not objMoved['success']):\n",
    "        deleted_items.append(item)\n",
    "        item.delete(force=False, dry_run=False)\n",
    "        sys.exit(\n",
    "            \"ERROR: Unable to move the item with ItemID {0} to the folder, {1}. \".format(\n",
    "                id, folder_name))\n",
    "    \n",
    "print (\"Copied \" + str(len(moved_items)) + \" dashboards to folder: \" + folder_name)\n",
    "for item in moved_items:\n",
    "    print(item.title + \" (\" + item.id + \")\")"
   ]
  },
  {
   "cell_type": "markdown",
   "id": "b2f1caf1",
   "metadata": {},
   "source": [
    "### Select template"
   ]
  },
  {
   "cell_type": "code",
   "execution_count": null,
   "id": "5733a0cd",
   "metadata": {},
   "outputs": [],
   "source": [
    "# select the template dashboard from the copied items\n",
    "template = folder.search(query=\"title:template\", item_type=\"Dashboard\")[0]\n",
    "\n",
    "# show preview of the template dashboard\n",
    "template.preview()\n",
    "\n",
    "# # show template dashboard\n",
    "# template.open_dashboard()"
   ]
  },
  {
   "cell_type": "markdown",
   "id": "7955c377",
   "metadata": {},
   "source": [
    "### Apply template header and theme"
   ]
  },
  {
   "cell_type": "code",
   "execution_count": null,
   "id": "a8c5f48d",
   "metadata": {},
   "outputs": [],
   "source": [
    "# get template dashboard JSON\n",
    "template_json = template.get_data()\n",
    "\n",
    "# copy header section from template_json\n",
    "header = template_json[\"header\"]\n",
    "\n",
    "# copy theme property from template_json\n",
    "theme = template_json[\"theme\"]\n",
    "\n",
    "# copy themeOverrides from template_json\n",
    "themeOverrides = template_json[\"themeOverrides\"]\n",
    "\n",
    "print (template_json, \"\\n\\n ... \\n\\n\", header, \"\\n\\n ... \\n\\n\", theme, \"\\n\\n ... \\n\\n\", themeOverrides)"
   ]
  }
 ],
 "metadata": {
  "kernelspec": {
   "display_name": "Python 3 (ipykernel)",
   "language": "python",
   "name": "python3"
  },
  "language_info": {
   "codemirror_mode": {
    "name": "ipython",
    "version": 3
   },
   "file_extension": ".py",
   "mimetype": "text/x-python",
   "name": "python",
   "nbconvert_exporter": "python",
   "pygments_lexer": "ipython3",
   "version": "3.9.13"
  }
 },
 "nbformat": 4,
 "nbformat_minor": 5
}
